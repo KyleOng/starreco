{
 "cells": [
  {
   "cell_type": "code",
   "execution_count": 1,
   "metadata": {},
   "outputs": [],
   "source": [
    "import torch\n",
    "import torch.nn.functional as F\n",
    "from torch.utils.data import TensorDataset, DataLoader\n",
    "\n",
    "import pytorch_lightning as pl\n",
    "\n",
    "import sys\n",
    "sys.path.insert(0,'..')\n",
    "\n",
    "from starreco.model import *\n",
    "#from starreco.data import *"
   ]
  },
  {
   "cell_type": "code",
   "execution_count": 2,
   "metadata": {},
   "outputs": [
    {
     "name": "stderr",
     "output_type": "stream",
     "text": [
      "GPU available: True, used: True\n",
      "TPU available: None, using: 0 TPU cores\n",
      "/home/kyleong/anaconda3/envs/starreco/lib/python3.9/site-packages/pytorch_lightning/utilities/distributed.py:50: UserWarning: you defined a validation_step but have no val_dataloader. Skipping validation loop\n",
      "  warnings.warn(*args, **kwargs)\n",
      "\n",
      "  | Name    | Type       | Params\n",
      "---------------------------------------\n",
      "0 | encoder | Sequential | 55    \n",
      "1 | decoder | Sequential | 60    \n",
      "---------------------------------------\n",
      "115       Trainable params\n",
      "0         Non-trainable params\n",
      "115       Total params\n",
      "0.000     Total estimated model params size (MB)\n"
     ]
    },
    {
     "name": "stdout",
     "output_type": "stream",
     "text": [
      "Epoch 99: 100%|██████████| 4/4 [00:00<00:00, 17.68it/s, loss=1.7e+04, train_loss_step=1.56e+4, train_loss_epoch=1.65e+4] \n"
     ]
    },
    {
     "data": {
      "text/plain": [
       "1"
      ]
     },
     "execution_count": 2,
     "metadata": {},
     "output_type": "execute_result"
    }
   ],
   "source": [
    "user_x = torch.FloatTensor(3760,10).random_(0, 5)\n",
    "user_train_ds = TensorDataset(user_x, user_x)\n",
    "user_train_dl = DataLoader(user_train_ds, batch_size = 1024, num_workers = 8)\n",
    "\n",
    "user_mda = mDA(10, 5)\n",
    "pl.Trainer(gpus = 1, max_epochs = 100, progress_bar_refresh_rate = 50, logger = False)\\\n",
    ".fit(user_mda, user_train_dl)"
   ]
  },
  {
   "cell_type": "code",
   "execution_count": 3,
   "metadata": {},
   "outputs": [
    {
     "name": "stderr",
     "output_type": "stream",
     "text": [
      "GPU available: True, used: True\n",
      "TPU available: None, using: 0 TPU cores\n",
      "\n",
      "  | Name    | Type       | Params\n",
      "---------------------------------------\n",
      "0 | encoder | Sequential | 40    \n",
      "1 | decoder | Sequential | 42    \n",
      "---------------------------------------\n",
      "82        Trainable params\n",
      "0         Non-trainable params\n",
      "82        Total params\n",
      "0.000     Total estimated model params size (MB)\n"
     ]
    },
    {
     "name": "stdout",
     "output_type": "stream",
     "text": [
      "Epoch 99: 100%|██████████| 6/6 [00:00<00:00, 23.91it/s, loss=1.43e+05, train_loss_step=1.46e+5, train_loss_epoch=1.42e+5]\n"
     ]
    },
    {
     "data": {
      "text/plain": [
       "1"
      ]
     },
     "execution_count": 3,
     "metadata": {},
     "output_type": "execute_result"
    }
   ],
   "source": [
    "item_x = torch.FloatTensor(6040,7).random_(0, 5)\n",
    "item_train_ds = TensorDataset(item_x, item_x)\n",
    "item_train_dl = DataLoader(item_train_ds, batch_size = 1024, num_workers = 8)\n",
    "\n",
    "item_mda = mDA(7, 5)\n",
    "pl.Trainer(gpus = 1, max_epochs = 100, progress_bar_refresh_rate = 50, logger = False)\\\n",
    ".fit(item_mda, item_train_dl)"
   ]
  },
  {
   "cell_type": "code",
   "execution_count": 4,
   "metadata": {},
   "outputs": [
    {
     "name": "stdout",
     "output_type": "stream",
     "text": [
      "encoder.0.weight Parameter containing:\n",
      "tensor([[-1.6301,  1.2406,  0.2073,  2.1855,  1.1885],\n",
      "        [-0.2433, -0.2427, -1.3765, -1.4095, -1.9335],\n",
      "        [-2.6377, -2.4519,  1.1827, -0.9560, -2.3007],\n",
      "        [-2.4313, -2.0646, -2.4477, -2.5715, -0.8255],\n",
      "        [-0.0619, -0.3231, -0.4773, -0.4651, -1.5533],\n",
      "        [-1.3718, -1.3856, -1.3968,  0.0081, -2.0328],\n",
      "        [ 1.7224,  0.4979,  0.3116,  0.2665,  0.4633],\n",
      "        [-0.9868,  0.7585, -0.5694,  1.6053,  1.5704],\n",
      "        [-1.0549,  2.1950,  1.2452,  0.2813, -0.3438],\n",
      "        [ 2.1827, -0.6145, -2.1656, -1.5246,  0.1930]], requires_grad=True)\n",
      "encoder.0.bias Parameter containing:\n",
      "tensor([0.7653, 0.7463, 0.7799, 0.7474, 0.7712], requires_grad=True)\n",
      "decoder.0.weight Parameter containing:\n",
      "tensor([[-1.5801,  0.0823, -2.2548, -1.8616,  0.2046, -0.7802,  1.7302, -0.9573,\n",
      "         -1.0228,  2.1623],\n",
      "        [ 1.2416,  0.2807, -1.9206, -1.3982,  0.1066, -0.6785,  0.5265,  0.7678,\n",
      "          2.1975, -0.5494],\n",
      "        [ 0.2086, -0.8817,  1.1514, -1.9995, -0.0738, -0.9883,  0.3356, -0.5668,\n",
      "          1.2545, -2.0326],\n",
      "        [ 2.1845, -0.6509, -0.2515, -1.9665,  0.0394,  0.4829,  0.2963,  1.6087,\n",
      "          0.2868, -1.4408],\n",
      "        [ 1.1794, -1.4516, -1.8708, -0.1070, -0.9768, -1.6480,  0.4774,  1.5660,\n",
      "         -0.3474,  0.2646]])\n",
      "decoder.0.bias Parameter containing:\n",
      "tensor([0.7326, 1.3890, 1.4188, 1.4184, 1.3562, 1.3987, 0.8142, 0.7494, 0.7482,\n",
      "        1.4546])\n",
      "---\n",
      "encoder.0.weight Parameter containing:\n",
      "tensor([[-0.0821,  0.9803,  1.6011, -2.0594, -0.5153],\n",
      "        [ 0.4547,  0.6018,  0.3745, -0.1999,  0.4396],\n",
      "        [-1.2694, -1.4926, -2.3314, -0.8862,  0.0074],\n",
      "        [ 1.2715,  0.6124, -0.5644, -1.3488,  0.1683],\n",
      "        [-0.6263, -0.0108,  0.4808,  1.8132, -2.5122],\n",
      "        [ 2.2213,  0.1126, -1.6150,  1.2848, -2.0922],\n",
      "        [ 0.7332,  1.5039,  2.2349, -1.5012, -2.2524]], requires_grad=True)\n",
      "encoder.0.bias Parameter containing:\n",
      "tensor([0.5999, 0.6200, 0.6111, 0.6503, 0.7832], requires_grad=True)\n",
      "decoder.0.weight Parameter containing:\n",
      "tensor([[-0.0587,  0.4875,  0.1053,  1.2813, -0.4646,  2.2249,  0.7379],\n",
      "        [ 0.9810,  0.6174, -0.0830,  0.6158,  0.1195,  0.1102,  1.4897],\n",
      "        [ 1.6083,  0.4064, -1.1104, -0.5316,  0.5976, -1.5735,  2.2338],\n",
      "        [-1.9904, -0.1245, -0.0625, -1.3136,  1.8840,  1.3090, -1.4576],\n",
      "        [-0.5927,  0.4275,  0.6233,  0.1394, -2.9041, -2.5668, -2.7210]])\n",
      "decoder.0.bias Parameter containing:\n",
      "tensor([0.5649, 0.5807, 2.0393, 0.5570, 0.7165, 0.5440, 0.5384])\n",
      "---\n",
      "user_mda.encoder.0.weight Parameter containing:\n",
      "tensor([[-1.6301,  1.2406,  0.2073,  2.1855,  1.1885],\n",
      "        [-0.2433, -0.2427, -1.3765, -1.4095, -1.9335],\n",
      "        [-2.6377, -2.4519,  1.1827, -0.9560, -2.3007],\n",
      "        [-2.4313, -2.0646, -2.4477, -2.5715, -0.8255],\n",
      "        [-0.0619, -0.3231, -0.4773, -0.4651, -1.5533],\n",
      "        [-1.3718, -1.3856, -1.3968,  0.0081, -2.0328],\n",
      "        [ 1.7224,  0.4979,  0.3116,  0.2665,  0.4633],\n",
      "        [-0.9868,  0.7585, -0.5694,  1.6053,  1.5704],\n",
      "        [-1.0549,  2.1950,  1.2452,  0.2813, -0.3438],\n",
      "        [ 2.1827, -0.6145, -2.1656, -1.5246,  0.1930]], requires_grad=True)\n",
      "user_mda.encoder.0.bias Parameter containing:\n",
      "tensor([0.7653, 0.7463, 0.7799, 0.7474, 0.7712], requires_grad=True)\n",
      "user_mda.decoder.0.weight Parameter containing:\n",
      "tensor([[-1.5801,  0.0823, -2.2548, -1.8616,  0.2046, -0.7802,  1.7302, -0.9573,\n",
      "         -1.0228,  2.1623],\n",
      "        [ 1.2416,  0.2807, -1.9206, -1.3982,  0.1066, -0.6785,  0.5265,  0.7678,\n",
      "          2.1975, -0.5494],\n",
      "        [ 0.2086, -0.8817,  1.1514, -1.9995, -0.0738, -0.9883,  0.3356, -0.5668,\n",
      "          1.2545, -2.0326],\n",
      "        [ 2.1845, -0.6509, -0.2515, -1.9665,  0.0394,  0.4829,  0.2963,  1.6087,\n",
      "          0.2868, -1.4408],\n",
      "        [ 1.1794, -1.4516, -1.8708, -0.1070, -0.9768, -1.6480,  0.4774,  1.5660,\n",
      "         -0.3474,  0.2646]])\n",
      "user_mda.decoder.0.bias Parameter containing:\n",
      "tensor([0.7326, 1.3890, 1.4188, 1.4184, 1.3562, 1.3987, 0.8142, 0.7494, 0.7482,\n",
      "        1.4546])\n",
      "item_mda.encoder.0.weight Parameter containing:\n",
      "tensor([[-0.0821,  0.9803,  1.6011, -2.0594, -0.5153],\n",
      "        [ 0.4547,  0.6018,  0.3745, -0.1999,  0.4396],\n",
      "        [-1.2694, -1.4926, -2.3314, -0.8862,  0.0074],\n",
      "        [ 1.2715,  0.6124, -0.5644, -1.3488,  0.1683],\n",
      "        [-0.6263, -0.0108,  0.4808,  1.8132, -2.5122],\n",
      "        [ 2.2213,  0.1126, -1.6150,  1.2848, -2.0922],\n",
      "        [ 0.7332,  1.5039,  2.2349, -1.5012, -2.2524]], requires_grad=True)\n",
      "item_mda.encoder.0.bias Parameter containing:\n",
      "tensor([0.5999, 0.6200, 0.6111, 0.6503, 0.7832], requires_grad=True)\n",
      "item_mda.decoder.0.weight Parameter containing:\n",
      "tensor([[-0.0587,  0.4875,  0.1053,  1.2813, -0.4646,  2.2249,  0.7379],\n",
      "        [ 0.9810,  0.6174, -0.0830,  0.6158,  0.1195,  0.1102,  1.4897],\n",
      "        [ 1.6083,  0.4064, -1.1104, -0.5316,  0.5976, -1.5735,  2.2338],\n",
      "        [-1.9904, -0.1245, -0.0625, -1.3136,  1.8840,  1.3090, -1.4576],\n",
      "        [-0.5927,  0.4275,  0.6233,  0.1394, -2.9041, -2.5668, -2.7210]])\n",
      "item_mda.decoder.0.bias Parameter containing:\n",
      "tensor([0.5649, 0.5807, 2.0393, 0.5570, 0.7165, 0.5440, 0.5384])\n"
     ]
    }
   ],
   "source": [
    "mdacf = mDACF(user_mda, item_mda, \n",
    "              weight_decay = 0) # Weight decay > 0 will updates freezed weights\n",
    "\n",
    "for name, param in user_mda.named_parameters():\n",
    "    print(name, param)\n",
    "print(\"---\")\n",
    "for name, param in item_mda.named_parameters():\n",
    "    print(name, param)\n",
    "print(\"---\")\n",
    "for name, param in mdacf.named_parameters():\n",
    "    print(name, param)"
   ]
  },
  {
   "cell_type": "code",
   "execution_count": 5,
   "metadata": {},
   "outputs": [
    {
     "name": "stderr",
     "output_type": "stream",
     "text": [
      "GPU available: True, used: True\n",
      "TPU available: None, using: 0 TPU cores\n",
      "\n",
      "  | Name     | Type | Params\n",
      "----------------------------------\n",
      "0 | user_mda | mDA  | 115   \n",
      "1 | item_mda | mDA  | 82    \n",
      "----------------------------------\n",
      "95        Trainable params\n",
      "102       Non-trainable params\n",
      "197       Total params\n",
      "0.001     Total estimated model params size (MB)\n"
     ]
    },
    {
     "name": "stdout",
     "output_type": "stream",
     "text": [
      "Epoch 9: 100%|██████████| 977/977 [00:06<00:00, 140.45it/s, loss=11, train_loss_step=11.90, train_loss_epoch=10.90]  \n"
     ]
    },
    {
     "data": {
      "text/plain": [
       "1"
      ]
     },
     "execution_count": 5,
     "metadata": {},
     "output_type": "execute_result"
    }
   ],
   "source": [
    "X = torch.FloatTensor(1000000,17).random_(0, 5)\n",
    "y = torch.FloatTensor(1000000).random_(1,6)\n",
    "train_ds = TensorDataset(X,y)\n",
    "train_dl = DataLoader(train_ds, batch_size = 1024, num_workers = 8)\n",
    "\n",
    "pl.Trainer(gpus = 1, max_epochs = 10, progress_bar_refresh_rate = 50, logger = False)\\\n",
    ".fit(mdacf, train_dl)"
   ]
  },
  {
   "cell_type": "code",
   "execution_count": 6,
   "metadata": {
    "scrolled": false
   },
   "outputs": [
    {
     "name": "stdout",
     "output_type": "stream",
     "text": [
      "encoder.0.weight Parameter containing:\n",
      "tensor([[-1.9957,  0.7173, -0.2455,  1.4919,  1.4798],\n",
      "        [-0.7202, -0.6658, -1.6321, -1.8520,  0.1143],\n",
      "        [-3.0071, -2.7380,  0.5236, -1.4199, -0.1604],\n",
      "        [-2.7923, -2.3588, -2.6229, -2.8551,  0.4946],\n",
      "        [-0.5634, -0.7447, -0.7998, -0.9337,  0.1127],\n",
      "        [-1.7648, -1.7044, -1.7400, -0.5323, -0.0301],\n",
      "        [ 1.1139,  0.0276, -0.1722, -0.3299,  1.0580],\n",
      "        [-1.3731,  0.2638, -0.9001,  0.8823,  1.7379],\n",
      "        [-1.4127,  1.6514,  0.6338, -0.2715,  0.6810],\n",
      "        [ 1.5600, -1.0156, -2.3971, -1.8673,  0.8934]], requires_grad=True)\n",
      "encoder.0.bias Parameter containing:\n",
      "tensor([0.1632, 0.2446, 0.1561, 0.0780, 2.2812], requires_grad=True)\n",
      "decoder.0.weight Parameter containing:\n",
      "tensor([[-1.5801,  0.0823, -2.2548, -1.8616,  0.2046, -0.7802,  1.7302, -0.9573,\n",
      "         -1.0228,  2.1623],\n",
      "        [ 1.2416,  0.2807, -1.9206, -1.3982,  0.1066, -0.6785,  0.5265,  0.7678,\n",
      "          2.1975, -0.5494],\n",
      "        [ 0.2086, -0.8817,  1.1514, -1.9995, -0.0738, -0.9883,  0.3356, -0.5668,\n",
      "          1.2545, -2.0326],\n",
      "        [ 2.1845, -0.6509, -0.2515, -1.9665,  0.0394,  0.4829,  0.2963,  1.6087,\n",
      "          0.2868, -1.4408],\n",
      "        [ 1.1794, -1.4516, -1.8708, -0.1070, -0.9768, -1.6480,  0.4774,  1.5660,\n",
      "         -0.3474,  0.2646]])\n",
      "decoder.0.bias Parameter containing:\n",
      "tensor([0.7326, 1.3890, 1.4188, 1.4184, 1.3562, 1.3987, 0.8142, 0.7494, 0.7482,\n",
      "        1.4546])\n",
      "---\n",
      "encoder.0.weight Parameter containing:\n",
      "tensor([[-7.3780e-01,  2.4693e-01,  9.3933e-01, -2.3181e+00, -2.7582e-03],\n",
      "        [-3.6735e-01, -3.6764e-02, -1.7680e-01, -6.7550e-01,  5.4980e-05],\n",
      "        [-1.7326e+00, -1.7813e+00, -2.5975e+00, -1.2766e+00, -3.1456e-04],\n",
      "        [ 3.9588e-01, -3.9790e-02, -1.0794e+00, -1.6634e+00, -4.2961e-04],\n",
      "        [-1.1798e+00, -5.1439e-01, -1.5629e-01,  1.2362e+00, -2.5088e+00],\n",
      "        [ 1.2305e+00, -4.1496e-01, -2.0100e+00,  7.3906e-01, -2.1026e+00],\n",
      "        [-8.0421e-02,  7.0691e-01,  1.5715e+00, -1.7976e+00, -2.2807e+00]],\n",
      "       requires_grad=True)\n",
      "encoder.0.bias Parameter containing:\n",
      "tensor([-0.2764, -0.0438, -0.0142,  0.1110,  0.1909], requires_grad=True)\n",
      "decoder.0.weight Parameter containing:\n",
      "tensor([[-0.0587,  0.4875,  0.1053,  1.2813, -0.4646,  2.2249,  0.7379],\n",
      "        [ 0.9810,  0.6174, -0.0830,  0.6158,  0.1195,  0.1102,  1.4897],\n",
      "        [ 1.6083,  0.4064, -1.1104, -0.5316,  0.5976, -1.5735,  2.2338],\n",
      "        [-1.9904, -0.1245, -0.0625, -1.3136,  1.8840,  1.3090, -1.4576],\n",
      "        [-0.5927,  0.4275,  0.6233,  0.1394, -2.9041, -2.5668, -2.7210]])\n",
      "decoder.0.bias Parameter containing:\n",
      "tensor([0.5649, 0.5807, 2.0393, 0.5570, 0.7165, 0.5440, 0.5384])\n",
      "---\n",
      "user_mda.encoder.0.weight Parameter containing:\n",
      "tensor([[-1.9957,  0.7173, -0.2455,  1.4919,  1.4798],\n",
      "        [-0.7202, -0.6658, -1.6321, -1.8520,  0.1143],\n",
      "        [-3.0071, -2.7380,  0.5236, -1.4199, -0.1604],\n",
      "        [-2.7923, -2.3588, -2.6229, -2.8551,  0.4946],\n",
      "        [-0.5634, -0.7447, -0.7998, -0.9337,  0.1127],\n",
      "        [-1.7648, -1.7044, -1.7400, -0.5323, -0.0301],\n",
      "        [ 1.1139,  0.0276, -0.1722, -0.3299,  1.0580],\n",
      "        [-1.3731,  0.2638, -0.9001,  0.8823,  1.7379],\n",
      "        [-1.4127,  1.6514,  0.6338, -0.2715,  0.6810],\n",
      "        [ 1.5600, -1.0156, -2.3971, -1.8673,  0.8934]], requires_grad=True)\n",
      "user_mda.encoder.0.bias Parameter containing:\n",
      "tensor([0.1632, 0.2446, 0.1561, 0.0780, 2.2812], requires_grad=True)\n",
      "user_mda.decoder.0.weight Parameter containing:\n",
      "tensor([[-1.5801,  0.0823, -2.2548, -1.8616,  0.2046, -0.7802,  1.7302, -0.9573,\n",
      "         -1.0228,  2.1623],\n",
      "        [ 1.2416,  0.2807, -1.9206, -1.3982,  0.1066, -0.6785,  0.5265,  0.7678,\n",
      "          2.1975, -0.5494],\n",
      "        [ 0.2086, -0.8817,  1.1514, -1.9995, -0.0738, -0.9883,  0.3356, -0.5668,\n",
      "          1.2545, -2.0326],\n",
      "        [ 2.1845, -0.6509, -0.2515, -1.9665,  0.0394,  0.4829,  0.2963,  1.6087,\n",
      "          0.2868, -1.4408],\n",
      "        [ 1.1794, -1.4516, -1.8708, -0.1070, -0.9768, -1.6480,  0.4774,  1.5660,\n",
      "         -0.3474,  0.2646]])\n",
      "user_mda.decoder.0.bias Parameter containing:\n",
      "tensor([0.7326, 1.3890, 1.4188, 1.4184, 1.3562, 1.3987, 0.8142, 0.7494, 0.7482,\n",
      "        1.4546])\n",
      "item_mda.encoder.0.weight Parameter containing:\n",
      "tensor([[-7.3780e-01,  2.4693e-01,  9.3933e-01, -2.3181e+00, -2.7582e-03],\n",
      "        [-3.6735e-01, -3.6764e-02, -1.7680e-01, -6.7550e-01,  5.4980e-05],\n",
      "        [-1.7326e+00, -1.7813e+00, -2.5975e+00, -1.2766e+00, -3.1456e-04],\n",
      "        [ 3.9588e-01, -3.9790e-02, -1.0794e+00, -1.6634e+00, -4.2961e-04],\n",
      "        [-1.1798e+00, -5.1439e-01, -1.5629e-01,  1.2362e+00, -2.5088e+00],\n",
      "        [ 1.2305e+00, -4.1496e-01, -2.0100e+00,  7.3906e-01, -2.1026e+00],\n",
      "        [-8.0421e-02,  7.0691e-01,  1.5715e+00, -1.7976e+00, -2.2807e+00]],\n",
      "       requires_grad=True)\n",
      "item_mda.encoder.0.bias Parameter containing:\n",
      "tensor([-0.2764, -0.0438, -0.0142,  0.1110,  0.1909], requires_grad=True)\n",
      "item_mda.decoder.0.weight Parameter containing:\n",
      "tensor([[-0.0587,  0.4875,  0.1053,  1.2813, -0.4646,  2.2249,  0.7379],\n",
      "        [ 0.9810,  0.6174, -0.0830,  0.6158,  0.1195,  0.1102,  1.4897],\n",
      "        [ 1.6083,  0.4064, -1.1104, -0.5316,  0.5976, -1.5735,  2.2338],\n",
      "        [-1.9904, -0.1245, -0.0625, -1.3136,  1.8840,  1.3090, -1.4576],\n",
      "        [-0.5927,  0.4275,  0.6233,  0.1394, -2.9041, -2.5668, -2.7210]])\n",
      "item_mda.decoder.0.bias Parameter containing:\n",
      "tensor([0.5649, 0.5807, 2.0393, 0.5570, 0.7165, 0.5440, 0.5384])\n"
     ]
    }
   ],
   "source": [
    "for name, param in user_mda.named_parameters():\n",
    "    print(name, param)\n",
    "print(\"---\")\n",
    "for name, param in item_mda.named_parameters():\n",
    "    print(name, param)\n",
    "print(\"---\")\n",
    "for name, param in mdacf.named_parameters():\n",
    "    print(name, param)"
   ]
  },
  {
   "cell_type": "code",
   "execution_count": null,
   "metadata": {},
   "outputs": [],
   "source": []
  }
 ],
 "metadata": {
  "kernelspec": {
   "display_name": "Python 3 (star-reco)",
   "language": "python",
   "name": "starreco"
  },
  "language_info": {
   "codemirror_mode": {
    "name": "ipython",
    "version": 3
   },
   "file_extension": ".py",
   "mimetype": "text/x-python",
   "name": "python",
   "nbconvert_exporter": "python",
   "pygments_lexer": "ipython3",
   "version": "3.9.1"
  }
 },
 "nbformat": 4,
 "nbformat_minor": 4
}
